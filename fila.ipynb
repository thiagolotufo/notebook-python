{
 "cells": [
  {
   "cell_type": "markdown",
   "metadata": {},
   "source": [
    "Escreva um código em Python que simule o controle de uma pista de decolagem de aviões em um aeroporto. Neste programa,o usuário deve ser capaz de realizar as seguintes tarefas:\n",
    "\n",
    "- Listar o número de aviões aguardando na fila de decolagem\n",
    "- Autorizar a decolagem do primeiro avião da fila\n",
    "- Adicionar um avião à fila de espera\n",
    "- Listar todos os aviões na fila de espera\n",
    "- Listar as características do primeiro avião da fila.Considere que os aviões possuem um nome e um número inteiro como identificador."
   ]
  },
  {
   "cell_type": "code",
   "execution_count": 5,
   "metadata": {},
   "outputs": [],
   "source": [
    "def menu():\n",
    "    print('1 - Listar o número de aviões na fila')\n",
    "    print('2 - Autorizar decolagem')\n",
    "    print('3 - Incluir avisão na fila de espera')\n",
    "    print('4 - Listar aviões na fila')\n",
    "    print('5 - Próximo a decolar')\n",
    "    print('0 - Sair')\n",
    "    return int(input())"
   ]
  },
  {
   "cell_type": "code",
   "execution_count": 26,
   "metadata": {},
   "outputs": [],
   "source": [
    "from collections import deque"
   ]
  },
  {
   "cell_type": "code",
   "execution_count": null,
   "metadata": {},
   "outputs": [],
   "source": [
    "fila_decolagem = deque()\n",
    "opcao = 0\n",
    "\n",
    "while(True):\n",
    "    opcao = menu()\n",
    "\n",
    "    if (opcao == 1):\n",
    "        print('Avião de número: ', fila_decolagem[0][1])\n",
    "    elif (opcao == 2):\n",
    "        print('Avião ',fila_decolagem[0][0],' exluído da fila de decolagem')\n",
    "        fila_decolagem.popleft()\n",
    "    elif (opcao == 3):\n",
    "        nome = input('Entre com o nome da aeronave: ')\n",
    "        num = int(input('Entre com o número da aeronave: '))\n",
    "        aviao = (nome, num)\n",
    "        fila_decolagem.append(aviao)\n",
    "    elif (opcao == 4):\n",
    "        for posicao in fila_decolagem:\n",
    "            print('Avião: ', posicao[0], ' - Número: ', posicao[1])\n",
    "    elif (opcao == 5):\n",
    "        print('Próximo avião da fila: ', fila_decolagem[1])\n",
    "    elif (opcao == 0):\n",
    "        break   \n",
    "    "
   ]
  }
 ],
 "metadata": {
  "interpreter": {
   "hash": "af38a9045e2d12c4898ecaf2e8eed0ff33e606963ff719d3223f8a79e71c534c"
  },
  "kernelspec": {
   "display_name": "Python 3.9.7 64-bit",
   "name": "python3"
  },
  "language_info": {
   "codemirror_mode": {
    "name": "ipython",
    "version": 3
   },
   "file_extension": ".py",
   "mimetype": "text/x-python",
   "name": "python",
   "nbconvert_exporter": "python",
   "pygments_lexer": "ipython3",
   "version": "3.9.7"
  },
  "orig_nbformat": 4
 },
 "nbformat": 4,
 "nbformat_minor": 2
}
