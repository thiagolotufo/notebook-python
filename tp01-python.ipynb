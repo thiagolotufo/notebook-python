{
 "cells": [
  {
   "cell_type": "markdown",
   "metadata": {},
   "source": [
    "# Fundamentos de Desenvolvimento Python\n",
    "Prof. Andre Victor\n",
    "## Etapa 2 - Reforçando condicional, repetições, funções e recursividade\n",
    "\n",
    "Os exercícios dessa lista devem ser submetidos como parte do TP1"
   ]
  },
  {
   "cell_type": "markdown",
   "metadata": {},
   "source": [
    "1. Escreva um código que leia 3 números do console e imprima o maior e o menor deles"
   ]
  },
  {
   "cell_type": "code",
   "execution_count": 5,
   "metadata": {},
   "outputs": [
    {
     "name": "stdout",
     "output_type": "stream",
     "text": [
      "5\n",
      "2\n"
     ]
    }
   ],
   "source": [
    "list, maior, menor = [], 0, 999999\n",
    "for i in range(0,3):\n",
    "    list.append(int(input(\"Digite um número: \")))\n",
    "    if (maior < list[i]):\n",
    "       maior = list[i]\n",
    "    if (menor > list[i]):\n",
    "        menor = list[i]\n",
    "\n",
    "print(maior)\n",
    "print(menor) "
   ]
  },
  {
   "cell_type": "markdown",
   "metadata": {},
   "source": [
    "2. Refine o código anterior para ler primeiro a quantidade de números a serem lidos pelo console e depois imprima o maior e o menor"
   ]
  },
  {
   "cell_type": "code",
   "execution_count": null,
   "metadata": {},
   "outputs": [],
   "source": [
    "list, maior, menor = [], 0, 999999\n",
    "quantidade = int(input(\"Digite a quantidade de números a serem digitados: \"))\n",
    "for i in range(0,quantidade):\n",
    "    list.append(int(input(\"Digite um número: \")))\n",
    "    if (maior < list[i]):\n",
    "       maior = list[i]\n",
    "    if (menor > list[i]):\n",
    "        menor = list[i]\n",
    "\n",
    "print(maior)\n",
    "print(menor)"
   ]
  },
  {
   "cell_type": "markdown",
   "metadata": {},
   "source": [
    "3. Escreva um código que leia as 4 notas bimestrais de um aluno da escola pelo console e imprima a média final do aluno"
   ]
  },
  {
   "cell_type": "code",
   "execution_count": 9,
   "metadata": {},
   "outputs": [
    {
     "name": "stdout",
     "output_type": "stream",
     "text": [
      "7.75\n"
     ]
    }
   ],
   "source": [
    "notas, soma = [], 0\n",
    "for i in range(0, 4):\n",
    "    notas.append(float(input(\"Digite a nota: \")))\n",
    "    soma += notas[i]\n",
    "\n",
    "print(soma/4)"
   ]
  },
  {
   "cell_type": "markdown",
   "metadata": {},
   "source": [
    "4. Refina o código anterior para obter a quantidade de notas a serem avaliadas pelo console e gerar o conceito final do aluno a partir da média aritmética calculada.\n",
    "\n",
    "    Conceito A: entre 9 e 10 de média (incluindo os limites)\n",
    "    Conceito B: entre 7 (inclusive) e abaixo de 9 de média\n",
    "    Conceito C: entre 6 (inclusive) e abaixo de 7 de média\n",
    "    Conceito D: abaixo de 6 de média"
   ]
  },
  {
   "cell_type": "code",
   "execution_count": null,
   "metadata": {},
   "outputs": [],
   "source": [
    "notas, soma = [], 0\n",
    "quantidade = int(input(\"Digite a quantidade de notas a serem digitados: \"))\n",
    "for i in range(0, quantidade):\n",
    "    notas.append(float(input(\"Digite a nota: \")))\n",
    "    soma += notas[i]\n",
    "\n",
    "media = soma/4\n",
    "\n",
    "if media >= 9 and media <= 10:\n",
    "    print(\"Media: \", media, \"\\nConceito: A\") \n",
    "elif media >= 7 and media < 9:\n",
    "    print(\"Media: \", media, \"\\nConceito: B\")\n",
    "elif media >= 6 and media < 7:\n",
    "    print(\"Media: \", media, \"\\nConceito: C\")\n",
    "else:\n",
    "    print(\"Media: \", media, \"\\nConceito: D\")"
   ]
  },
  {
   "cell_type": "markdown",
   "metadata": {},
   "source": [
    "5. Escreva um código que some todos os números digitados pelo console até que o valor digitado seja ZERO (0)"
   ]
  },
  {
   "cell_type": "code",
   "execution_count": null,
   "metadata": {},
   "outputs": [],
   "source": [
    "soma, num = 0, -1\n",
    "\n",
    "while(num != 0):\n",
    "    num = int(input(\"Digite um número (digite 0 para sair): \"))\n",
    "    soma += num\n",
    "\n",
    "print(soma)"
   ]
  },
  {
   "cell_type": "markdown",
   "metadata": {},
   "source": [
    "6. Escreva uma função que calcula o salário líquido de um empregado a partir do salário bruto recebido como parâmetro. Base de cálculo:\n",
    "\n",
    "    Salário liquido = Salário bruto - desconto INSS - desconto IRRF\n",
    "\n",
    "    Obs.: Vocês devem pesquisar as faixas de valores e as alíquotas de descontos do INSS para cada faixa e aplicar a alíquota conforme a faixa. O mesmo deve ser feito para o imposto de renda retido na fonte.\n",
    "\n",
    "    Para maiores informações consultar: https://www.calculadorafacil.com.br/trabalhista/calculo-salario-liquido\n",
    "\n",
    "    ```python\n",
    "    def salario_liquido(salario_bruto):\n",
    "      ## A função de vocês vai retornar o valor do salário líquido em função das alíquotas da faixa salarial em que o salário bruto se enquadra\n",
    "    ```"
   ]
  },
  {
   "cell_type": "code",
   "execution_count": 21,
   "metadata": {},
   "outputs": [
    {
     "name": "stdout",
     "output_type": "stream",
     "text": [
      "2584.8\n"
     ]
    }
   ],
   "source": [
    "def salario_liquido(salario_bruto):\n",
    "    salario_liquido = salario_bruto - inss(salario_bruto) - irpf(salario_bruto)\n",
    "    return salario_liquido\n",
    "\n",
    "def inss(salario_bruto):\n",
    "    valor_inss = 0\n",
    "    if salario_bruto <= 1100.00:\n",
    "        valor_inss = salario_bruto*0.075\n",
    "    elif salario_bruto >= 1100.01 and salario_bruto <= 2203.48:\n",
    "        valor_inss = salario_bruto*0.090\n",
    "    elif salario_bruto >= 2203.49 and salario_bruto <= 3305.22:\n",
    "        valor_inss = salario_bruto*0.12\n",
    "    elif salario_bruto <= 3305.23 and salario_bruto <= 6433.57:\n",
    "        valor_inss = salario_bruto*0.14\n",
    "    else:\n",
    "        valor_inss = salario_bruto - 751.99\n",
    "\n",
    "    return valor_inss\n",
    "\n",
    "def irpf(salario_bruto):\n",
    "    valor_dependente = 189.59\n",
    "    valor_irpf = 0\n",
    "    salario_bruto -= inss(salario_bruto)\n",
    "\n",
    "    if salario_bruto <= 1903.98:\n",
    "        valor_irpf = 0\n",
    "    elif salario_bruto >= 1903.99 and salario_bruto <= 2826.65:\n",
    "        valor_irpf = (salario_bruto * 0.075 - 142.80)\n",
    "    elif salario_bruto >= 2826.66 and salario_bruto <= 3751.05:\n",
    "        valor_irpf = (salario_bruto * 0.15 - 354.80)\n",
    "    elif salario_bruto >= 3751.06 and salario_bruto <= 4664.68:\n",
    "        valor_irpf = (salario_bruto * 0.225 - 636.13)\n",
    "    else:\n",
    "        valor_irpf = (salario_bruto * 0.275 - 869.36)\n",
    "    \n",
    "    return valor_irpf\n",
    "\n",
    "sal = float(input(\"Digite o salário bruto: \"))\n",
    "print(salario_liquido(sal))"
   ]
  },
  {
   "cell_type": "markdown",
   "metadata": {},
   "source": [
    "7. Refine o código anterior para incluir um parâmetro na função que represente o número de dependentes do trabalhador. Se o valor for omitido, assuma que ele não tem dependentes (valor 0 por default)\n",
    "\n",
    "    ```python\n",
    "    def salario_liquido2(salario_bruto, num_depend=0):\n",
    "      # 2 formas de invocar a função: \n",
    "        salario_liquido2(1500, 2)\n",
    "        salario_liquido2(2000)\n",
    "    ```"
   ]
  },
  {
   "cell_type": "code",
   "execution_count": null,
   "metadata": {},
   "outputs": [],
   "source": [
    "def salario_liquido(salario_bruto):\n",
    "    salario_liquido = salario_bruto - inss(salario_bruto) - irpf(salario_bruto, qtd_dependentes)\n",
    "    return salario_liquido\n",
    "\n",
    "def inss(salario_bruto):\n",
    "    valor_inss = 0\n",
    "    if salario_bruto <= 1100.00:\n",
    "        valor_inss = salario_bruto*0.075\n",
    "    elif salario_bruto >= 1100.01 and salario_bruto <= 2203.48:\n",
    "        valor_inss = salario_bruto*0.090\n",
    "    elif salario_bruto >= 2203.49 and salario_bruto <= 3305.22:\n",
    "        valor_inss = salario_bruto*0.12\n",
    "    elif salario_bruto <= 3305.23 and salario_bruto <= 6433.57:\n",
    "        valor_inss = salario_bruto*0.14\n",
    "    else:\n",
    "        valor_inss = salario_bruto - 751.99\n",
    "\n",
    "    return valor_inss\n",
    "\n",
    "def irpf(salario_bruto, qtd_dependentes):\n",
    "    valor_dependente = 189.59\n",
    "    valor_irpf = 0\n",
    "    salario_bruto -= inss(salario_bruto)\n",
    "\n",
    "    if salario_bruto <= 1903.98:\n",
    "        valor_irpf = 0\n",
    "    elif salario_bruto >= 1903.99 and salario_bruto <= 2826.65:\n",
    "        valor_irpf = (salario_bruto - (valor_dependente * qtd_dependentes)) * 0.075 - 142.80\n",
    "    elif salario_bruto >= 2826.66 and salario_bruto <= 3751.05:\n",
    "        valor_irpf = (salario_bruto - (valor_dependente * qtd_dependentes)) * 0.15 - 354.80\n",
    "    elif salario_bruto >= 3751.06 and salario_bruto <= 4664.68:\n",
    "        valor_irpf = (salario_bruto - (valor_dependente * qtd_dependentes)) * 0.225 - 636.13\n",
    "    else:\n",
    "        valor_irpf = (salario_bruto - (valor_dependente * qtd_dependentes)) * 0.275 - 869.36\n",
    "    \n",
    "    return valor_irpf\n",
    "\n",
    "sal = float(input(\"Digite o salário bruto: \"))\n",
    "qtd_dependentes = 0\n",
    "\n",
    "qtd_dependentes = int(input(\"Quantidade de dependentes: \"))\n",
    "\n",
    "print(salario_liquido(sal))"
   ]
  },
  {
   "cell_type": "markdown",
   "metadata": {},
   "source": [
    "8. Implemente uma função que calcule as raízes de ume equação do segundo grau na forma ax2 + bx + c. O código deverá ler os valores de a, b e c do console e fazer as consistências, informando ao usuário nas seguintes situações:\n",
    "\n",
    "    Se o usuário informar o valor de A igual a zero, a equação não é do segundo grau e o programa não deve fazer pedir os demais valores, sendo encerrado;\n",
    "    Se o delta calculado for negativo, a equação não possui raizes reais. Informe ao usuário e encerre o programa;\n",
    "    Se o delta calculado for igual a zero a equação possui apenas uma raiz real; informe-a ao usuário;\n",
    "    Se o delta for positivo, a equação possui duas raiz reais; informe-as ao usuário;\n",
    "\n",
    "    ```python\n",
    "    def raizes(a,b,c):\n",
    "      Cálculo do delta, dos x (raízes)\n",
    "      return 2,3\n",
    "\n",
    "    x1,x2 = raizes(1,2,3)\n",
    "\n",
    "    print(x1)\n",
    "    print(x2)\n",
    "    ```"
   ]
  },
  {
   "cell_type": "code",
   "execution_count": 4,
   "metadata": {},
   "outputs": [
    {
     "name": "stdout",
     "output_type": "stream",
     "text": [
      "Maior raíz:  -0.20080646472550967\n",
      "Menor raíz:  -49.79919353527449\n"
     ]
    }
   ],
   "source": [
    "def calcula_raizes():\n",
    "    a = int(input('Digite o valor de A: '))\n",
    "    if a == 0:\n",
    "        print('Equação não é de segundo grau!')\n",
    "    else:  \n",
    "        b = int(input('Digite o valor de B: '))\n",
    "        c = int(input('Digite o valor de C: '))\n",
    "        delta = (b**2) - (4*a*c)\n",
    "        \n",
    "        if delta < 0:\n",
    "            print('Equação não possui raízes!')\n",
    "        elif delta == 0:\n",
    "            print('Raíz: ',(-b + (delta ** (1/2))) / (2*a))\n",
    "        else:\n",
    "            print('Maior raíz: ', ((-b + (delta ** (1/2))) / (2*a)))\n",
    "            print('Menor raíz: ', ((-b - (delta ** (1/2))) / (2*a)))"
   ]
  },
  {
   "cell_type": "markdown",
   "metadata": {},
   "source": [
    "9. Escreva uma função que vai ler o número de litros abastecidos de uma bomba de combustível num posto de gasolina (entrada via console) e calcular o preço a ser pago pelo consumidor. Esta função recebe 3 parâmetros:\n",
    "\n",
    "    Número de litros abastecidos\n",
    "    Tipo de combustível: 'A': álcool e 'G': gasolina\n",
    "    Aditivada: True para os casos de abastecimento de gasolina aditivada (assuma que o default é False) Entre com os valores dos preços do álcool e gasolina comum pelo console, assumindo que o preço da gasolina aditivada é 20% mais cara do que o valor da comum.\n",
    "\n",
    "    Considere que acima de 20 litros abastecidos o consumidor tem um desconto de 5% no valor do litro de gasolina ou 7% no valor do litro do álcool"
   ]
  },
  {
   "cell_type": "code",
   "execution_count": 16,
   "metadata": {},
   "outputs": [
    {
     "name": "stdout",
     "output_type": "stream",
     "text": [
      "50.0\n"
     ]
    }
   ],
   "source": [
    "def calcula_preco_combustivel():\n",
    "    litros = float(input('Digite a quantidade de litros: '))\n",
    "    combustivel = (input('Digite o tipo de combustível: '))\n",
    "    tipo = False\n",
    "    if combustivel == 'A' or combustivel == 'G':\n",
    "        if combustivel == 'G':\n",
    "            tipo = bool(input('Digite o tipo da gasolina: '))\n",
    "            if tipo == True or tipo == False:\n",
    "                valor = float(input('Digite o valor da gasolina: '))\n",
    "                if tipo == True:\n",
    "                    valor += (valor*0.20)\n",
    "                total = valor * litros\n",
    "                if litros > 20:\n",
    "                    total -= (total*0.05)\n",
    "                print(total)\n",
    "        if combustivel == 'A':\n",
    "            valor = float(input('Digite o valor do álcool: '))\n",
    "            total = valor * litros\n",
    "            if litros > 20:\n",
    "                total -= (total*0.07)\n",
    "            print(total)\n",
    "    "
   ]
  },
  {
   "cell_type": "markdown",
   "metadata": {},
   "source": [
    "10. Implemente uma função que calcula o juros final pago na obtenção de um empréstimo financeiro, baseado no prazo informado e no valor das parcelas na simulação. Parâmetros a serem digitados pelo console:\n",
    "\n",
    "    Valor a ser contratado\n",
    "    Prazo do financiamento\n",
    "    Parcelas do empréstimo"
   ]
  },
  {
   "cell_type": "code",
   "execution_count": null,
   "metadata": {},
   "outputs": [],
   "source": [
    "def calcula_financiamento():\n",
    "    prazo_financiamento = int(input(\"Digite o prazo: \"))\n",
    "    valor_contratado = float(input(\"Digite o valor a ser contratado: \"))\n",
    "    valor_parcela = float(input(\"Digite o valor da parcela: \"))\n",
    "\n",
    "    juros = (((valor_parcela * prazo_financiamento) / valor_contratado) * 100) - 100\n",
    "\n",
    "    print(round(juros,2),\"%\")"
   ]
  },
  {
   "cell_type": "markdown",
   "metadata": {},
   "source": [
    "11. Implemente uma função que calcule o retorno do investimento de um valor depositado em uma aplicação financeira a uma taxa de juros fixa. Parâmetros a serem passados para a função:\n",
    "\n",
    "    Valor depositado inicialmente\n",
    "    Prazo de rendimento\n",
    "    Taxa de juros de rendimento mensal (se for omitida, considere 2% ao mês)"
   ]
  },
  {
   "cell_type": "code",
   "execution_count": 25,
   "metadata": {},
   "outputs": [
    {
     "name": "stdout",
     "output_type": "stream",
     "text": [
      "500.0\n"
     ]
    }
   ],
   "source": [
    "def calcula_rendimento():\n",
    "    juros = 0.02\n",
    "\n",
    "    valor_deposito = float(input(\"Digite o valor do depósito: \"))\n",
    "    prazo_de_rendimento = int(input(\"Digite o prazo de rendimento: \"))\n",
    "    juros = float(input(\"Digite o valor da parcela: \"))\n",
    "\n",
    "    retorno = ((valor_deposito * (juros/100)) * prazo_de_rendimento)\n",
    "\n",
    "    print(retorno)"
   ]
  },
  {
   "cell_type": "markdown",
   "metadata": {},
   "source": [
    "12. Refine o código das duas funções anteriores para transformá-las em funções recursivas"
   ]
  },
  {
   "cell_type": "code",
   "execution_count": 38,
   "metadata": {},
   "outputs": [
    {
     "name": "stdout",
     "output_type": "stream",
     "text": [
      "20.0 %\n"
     ]
    }
   ],
   "source": [
    "prazo_financiamento = int(input(\"Digite o prazo: \"))\n",
    "valor_contratado = float(input(\"Digite o valor a ser contratado: \"))\n",
    "valor_parcela = float(input(\"Digite o valor da parcela: \"))\n",
    "\n",
    "def calcula_financiamento(prazo_financiamento, valor_parcela):\n",
    "    if prazo_financiamento == 1:\n",
    "        return valor_parcela\n",
    "    else:\n",
    "        return valor_parcela + calcula_financiamento(prazo_financiamento-1, valor_parcela)\n",
    "\n",
    "juros = (calcula_financiamento(prazo_financiamento, valor_parcela) - valor_contratado) / 10\n",
    "print(round(juros,2),\"%\")\n"
   ]
  },
  {
   "cell_type": "code",
   "execution_count": 42,
   "metadata": {},
   "outputs": [
    {
     "name": "stdout",
     "output_type": "stream",
     "text": [
      "200.0\n"
     ]
    }
   ],
   "source": [
    "valor_deposito = float(input(\"Digite o valor do depósito: \"))\n",
    "prazo_de_rendimento = int(input(\"Digite o prazo de rendimento: \"))\n",
    "juros = 2\n",
    "juros = int(input(\"Digite o valor do juros: \"))\n",
    "\n",
    "def calcula_rendimento(prazo_de_rendimento, valor_deposito):\n",
    "    if prazo_de_rendimento == 0:\n",
    "        return valor_deposito\n",
    "    else:\n",
    "        return (valor_deposito * (juros/100)) + calcula_rendimento(prazo_de_rendimento - 1, valor_deposito)\n",
    "\n",
    "print(calcula_rendimento(prazo_de_rendimento, valor_deposito)-valor_deposito)"
   ]
  },
  {
   "cell_type": "markdown",
   "metadata": {},
   "source": [
    "13. Faça um programa que leia uma quantidade indeterminada de números positivos e conte quantos deles estão nos seguintes intervalos: [0-25], [26-50], [51-75] e [76-100]. A entrada de dados pelo console deverá terminar quando for lido um número negativo."
   ]
  },
  {
   "cell_type": "code",
   "execution_count": 44,
   "metadata": {},
   "outputs": [
    {
     "name": "stdout",
     "output_type": "stream",
     "text": [
      "4  números no intervalo [0-25]\n",
      " 0  números no intervalo [26-50]\n",
      " 0  números no intervalo [51-75]\n",
      " 0  números no intervalo [76-100]\n",
      "\n"
     ]
    }
   ],
   "source": [
    "num = 0\n",
    "int1, int2, int3, int4 = 0, 0, 0, 0\n",
    "while num >= 0:\n",
    "    num = int(input('Digite o número: (-1 para sair)'))\n",
    "    if num >= 0 and num <= 25:\n",
    "        int1 += 1\n",
    "    elif num >= 26 and num <= 50:\n",
    "        int2 += 1\n",
    "    elif num >= 51 and num <= 75:\n",
    "        int3 += 1\n",
    "    elif num >= 76 and num <= 100:\n",
    "        int4 += 1\n",
    "\n",
    "print(int1,' números no intervalo [0-25]\\n',\n",
    "      int2,' números no intervalo [26-50]\\n',\n",
    "      int3,' números no intervalo [51-75]\\n',\n",
    "      int4,' números no intervalo [76-100]\\n'\n",
    "    )"
   ]
  },
  {
   "cell_type": "markdown",
   "metadata": {},
   "source": [
    "14. Em uma eleição municipal existem quatro candidatos. Você deve programar a urna eletrônica para computar os votos por códigos. Os códigos utilizados são:\n",
    "\n",
    "    1 , 2, 3, 4 - Votos para os respectivos candidatos (você deve montar a tabela ex: 1 - Jose/ 2- João/etc)\n",
    "    Será considerado um voto nulo o voto cujo código seja diferente dos valores 1,2,3 e 4\n",
    "\n",
    "    Implemente uma função que simule a urna eletrônica e ela imprima ao final\n",
    "\n",
    "        O total de votos para cada candidato;\n",
    "        O total de votos nulos;\n",
    "        O percentual de votos válidos de cada candidato\n",
    "\n",
    "    Para encerrar a votação em uma urna, basta digitar zero (0) na urna que os votos são computados e impressos"
   ]
  },
  {
   "cell_type": "code",
   "execution_count": 52,
   "metadata": {},
   "outputs": [
    {
     "name": "stdout",
     "output_type": "stream",
     "text": [
      "\n",
      "Candidato 1:  4 \n",
      "Candidato 2:  3 \n",
      "Candidato 3:  2 \n",
      "Candidato 4:  1 \n",
      "Votos nulos:  1\n"
     ]
    }
   ],
   "source": [
    "voto, candidato_1, candidato_2, candidato_3, candidato_4, nulo = -1, 0, 0, 0, 0, -1\n",
    "\n",
    "while voto != 0:\n",
    "    voto = int(input('Digite o seu voto: '))\n",
    "    if voto == 1:\n",
    "        candidato_1 += 1\n",
    "    elif voto == 2:\n",
    "        candidato_2 += 1\n",
    "    elif voto == 3:\n",
    "        candidato_3 += 1\n",
    "    elif voto == 4:\n",
    "        candidato_4 += 1\n",
    "    else:\n",
    "        nulo += 1   \n",
    "\n",
    "print('\\nCandidato 1: ', candidato_1,\n",
    "      '\\nCandidato 2: ', candidato_2,\n",
    "      '\\nCandidato 3: ', candidato_3,\n",
    "      '\\nCandidato 4: ', candidato_4,\n",
    "      '\\nVotos nulos: ', nulo\n",
    ")\n"
   ]
  }
 ],
 "metadata": {
  "interpreter": {
   "hash": "916dbcbb3f70747c44a77c7bcd40155683ae19c65e1c03b4aa3499c5328201f1"
  },
  "kernelspec": {
   "display_name": "Python 3.8.10 64-bit",
   "name": "python3"
  },
  "language_info": {
   "codemirror_mode": {
    "name": "ipython",
    "version": 3
   },
   "file_extension": ".py",
   "mimetype": "text/x-python",
   "name": "python",
   "nbconvert_exporter": "python",
   "pygments_lexer": "ipython3",
   "version": "3.8.10"
  },
  "orig_nbformat": 4
 },
 "nbformat": 4,
 "nbformat_minor": 2
}
